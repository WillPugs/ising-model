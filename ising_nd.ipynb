{
 "cells": [
  {
   "cell_type": "markdown",
   "source": [
    "<h1>Ising Model in Arbitrary Dimensions: Monte Carlo Simulations</h1>\r\n",
    "<h4>William Pugsley </h4>"
   ],
   "metadata": {}
  },
  {
   "cell_type": "code",
   "execution_count": 12,
   "source": [
    "import random\r\n",
    "import matplotlib.pyplot as plt\r\n",
    "import numpy as np\r\n",
    "from scipy.optimize import curve_fit\r\n",
    "from math import sqrt, cosh, sinh, log, exp, tanh\r\n",
    "\r\n",
    "#this module contains the statistical functions used throughout the simulation\r\n",
    "from my_math import *\r\n",
    "\r\n",
    "#Thermodynamic constants\r\n",
    "k_B = 1.380649e-23 #Units: J/K"
   ],
   "outputs": [],
   "metadata": {}
  },
  {
   "cell_type": "markdown",
   "source": [
    "<h2>Algorithm</h2>\r\n",
    "\r\n",
    "The Monte Carlo algorithm we will use (Holmes-Cerfon 6-9) consists of creating a grid of positive and negative spins, this will be realized as a d-dimensional numpy array of +1 and -1 randomly. This algorithm will apply to any dimension d. We will randomly select a spin and calculate the energy change, $\\Delta E$ associated with flipping the spin. The new state will be accepted with probability $Prob=W(\\sigma',\\sigma)$, where $W(\\sigma',\\sigma)$ satisfies the detailed balance equation (Grant 41); for our purposes this will be either the Glauber rule or the Metropolis rule. \r\n",
    "\r\n",
    "$W_{Metropolis}(\\sigma',\\sigma)=1 \\; \\Delta E \\leq 0, \\: e^{\\frac{-\\Delta E}{k_BT}} \\; \\Delta E \\gt 0$\r\n",
    "\r\n",
    "$W_{Glauber}(\\sigma',\\sigma)=\\frac{1}{2}(1-tanh(\\frac{\\Delta E}{2k_BT}))$\r\n",
    "\r\n",
    "We will do this N times for N total spins, this is one Monte Carlo cycle. Completing N cycles for our N spins will consist of one Monte Carlo simulation (Grant 45). At the end of a simulation we can calculate the total magnetization and the magnetization per spin; with these quantities we can verify our theoretical expectation of $<m>$. Repeating for diferent temperatures should yield the temperature dependence of $<m>$."
   ],
   "metadata": {}
  },
  {
   "cell_type": "markdown",
   "source": [
    "<h2>Ising Model in 4D+</h2>\r\n",
    "\r\n",
    "The two-dimensional Ising model consists of an NxM rectangular lattice of spin sites, $S_i$, pointing in either the positive or negative direction.\r\n",
    "\r\n",
    "$E_{state} = -J\\Sigma_{<i,j>}S_iS_j-H\\Sigma S_i$\r\n",
    "\r\n",
    "Where <i,j> denotes nearest neighbor interactions with no double counting.\r\n",
    "\r\n",
    "We will take this time to define the critical exponents of the Ising model:\r\n",
    "\r\n",
    "* $\\alpha \\: : \\: C_v \\sim |T-T_C|^{-\\alpha}, \\: H=0$\r\n",
    "* $\\beta \\: : \\: m \\sim (T_C-T)^{\\beta}, \\: H=0$\r\n",
    "* $\\gamma \\: : \\: \\chi \\sim |T-T_C|^{-\\gamma}, \\: H=0$\r\n",
    "* $\\delta \\: : \\: H \\sim m^{\\delta}, \\: H\\neq0$\r\n",
    "* $\\eta \\: : \\: <m(0)m(r)> \\sim r^{(-d+2-\\eta)}, \\: H=0$\r\n",
    "* $\\nu \\: : \\: \\xi \\sim |T-T_C|^{-\\nu}, \\: H=0$"
   ],
   "metadata": {}
  },
  {
   "cell_type": "markdown",
   "source": [
    "<h4>Setup</h4>"
   ],
   "metadata": {}
  },
  {
   "cell_type": "code",
   "execution_count": 13,
   "source": [
    "def init_grid(d, N):\r\n",
    "    \"\"\" (int, int) -> (list)\r\n",
    "    Creates an d-dimensional list with N rows, N columns, N pages, etc.\r\n",
    "    \"\"\"\r\n",
    "    if d == 1:\r\n",
    "        return [random.randrange(-1, 2, 2) for j in range(N)]\r\n",
    "    else:\r\n",
    "        return [init_grid(d-1,N) for i in range(N)]\r\n",
    "\r\n",
    "\r\n",
    "def total_mag(grid):\r\n",
    "    \"\"\" (np.array) -> (int)\r\n",
    "    Returns the total magnetization of a numpy array (grid) of +1/-1.\r\n",
    "    \"\"\"\r\n",
    "    return grid.sum()\r\n",
    "\r\n",
    "\r\n",
    "def mag_per_spin(grid):\r\n",
    "    \"\"\" (np.array) -> (float)\r\n",
    "    Returns the magnetization per spin of a numpy array (grid).\r\n",
    "    \"\"\"\r\n",
    "    return total_mag(grid)/grid.size\r\n",
    "\r\n",
    "\r\n",
    "def energy(grid, H=0):\r\n",
    "    \"\"\" (np.array, num) -> (num)\r\n",
    "    \"\"\"\r\n",
    "    N = len(grid) #size\r\n",
    "    d = len(grid.shape) #dimension\r\n",
    "\r\n",
    "    E = 0\r\n",
    "\r\n",
    "    for index, spin in np.ndenumerate(grid):\r\n",
    "        for i in range(d): #row, col, page, ... neighbors\r\n",
    "            new_idx = list(index)\r\n",
    "            new_idx[i] = (new_idx[i]+1)%N #right neighbors\r\n",
    "            E += spin*grid[tuple(new_idx)]\r\n",
    "\r\n",
    "            new_idx[i] = (new_idx[i]-2)%N#left neighbors (two spots over)\r\n",
    "            E += spin*grid[tuple(new_idx)]\r\n",
    "\r\n",
    "    return -E/2 - H*total_mag(grid)"
   ],
   "outputs": [],
   "metadata": {}
  },
  {
   "cell_type": "code",
   "execution_count": 14,
   "source": [
    "def energy_change(grid, index, H=0):\r\n",
    "    \"\"\" (np.array, tuple, num) -> (num)\r\n",
    "    Finds the change in energy associated with flipping the spin at the\r\n",
    "    index positon in grid.\r\n",
    "    \"\"\"\r\n",
    "    N = len(grid) #size\r\n",
    "    d = len(grid.shape) #dimension\r\n",
    "\r\n",
    "    if len(index) != d:\r\n",
    "        raise ValueError(\"Index must have the same length as the dimension of grid.\")\r\n",
    "        \r\n",
    "    E = 0\r\n",
    "    for i in range(d):\r\n",
    "        new_idx = list(index)\r\n",
    "        new_idx[i] = (new_idx[i]+1)%N #right neighbors\r\n",
    "        E += 2*grid[index]*grid[tuple(new_idx)]\r\n",
    "\r\n",
    "        new_idx[i] = (new_idx[i]-2)%N#left neighbors (two spots over)\r\n",
    "        E += 2*grid[index]*grid[tuple(new_idx)]\r\n",
    "\r\n",
    "    return E + H*grid[index]\r\n",
    "\r\n",
    "\r\n",
    "def glauber(grid, index, temp, H=0):\r\n",
    "    \"\"\" (np.array, tuple, float, float) -> (float)\r\n",
    "    Calculates the probability that a change of state occurs at the index location in grid.\r\n",
    "    \"\"\"\r\n",
    "    E = energy_change(grid, index, H)\r\n",
    "    return 0.5*(1 - tanh(0.5*E/temp))\r\n",
    "\r\n",
    "\r\n",
    "def metropolis(grid, index, temp, H=0):\r\n",
    "    \"\"\" (np.array, tuple, float, float) -> (float)\r\n",
    "    Calculates the probability that a change of state occurs at the index location in grid.\r\n",
    "    \"\"\"\r\n",
    "    E = energy_change(grid, index, H)\r\n",
    "    if E <= 0:\r\n",
    "        return 1\r\n",
    "    return exp(-E/temp)\r\n",
    "\r\n",
    "\r\n",
    "def flip(grid, index, temp, H=0, rule=\"metropolis\"):\r\n",
    "    \"\"\" (np.array, tuple, float, float, string) -> ()\r\n",
    "    Flips the spin in grid at the index site with a probability given by the Metropolis or Glauber rule at temperature temp.\r\n",
    "    \"\"\"\r\n",
    "    if rule == \"glauber\":\r\n",
    "        prob = glauber(grid, index, temp, H)\r\n",
    "    elif rule == \"metropolis\":\r\n",
    "        prob = metropolis(grid, index, temp, H)\r\n",
    "    else:\r\n",
    "        raise ValueError(\"The rule argument take \\\"glauber\\\" or \\\"metropolis\\\" as input.\")\r\n",
    "\r\n",
    "    choice = random.uniform(0, 1)\r\n",
    "    if choice <= prob: #will flip\r\n",
    "        grid[index] *= -1\r\n",
    "    #otherwise will not flip and nothing happens\r\n",
    "\r\n",
    "\r\n",
    "def cycle(grid, temp, H=0, rule='metropolis'):\r\n",
    "    \"\"\" (np.array, float, float, str) -> ()\r\n",
    "    Will conduct one Monte Carlo cycle over grid at temperature temp. \r\n",
    "    \"\"\"\r\n",
    "    d = len(grid.shape) #dimension\r\n",
    "    N = len(grid) #size\r\n",
    "\r\n",
    "    for i in range(N**d):\r\n",
    "        index = tuple([random.randint(0, N-1) for j in range(d)])\r\n",
    "        flip(grid, index, temp, H, rule)\r\n",
    "\r\n",
    "\r\n",
    "def simulation(grid, temp, H=0, rule='metropolis'):\r\n",
    "    \"\"\" (np.array, float, float, str) -> ()\r\n",
    "    Will conduct one Monte Carlo simulation over grid at temperature temp. \r\n",
    "    \"\"\"\r\n",
    "    d = len(grid.shape) #dimension\r\n",
    "    N = len(grid) #size\r\n",
    "\r\n",
    "    for i in range(N**d):\r\n",
    "        cycle(grid, temp, H, rule)"
   ],
   "outputs": [],
   "metadata": {}
  },
  {
   "cell_type": "markdown",
   "source": [
    "<h4>Simulation</h4>\r\n",
    "\r\n",
    "We will create a d-dimensional numpy array of NxNx...xN sites and run a total of num_sim Monte Carlo simulations before recording the magnetization per spin. We will do this num_points times, to get that many data points, at each temperature T in temperatues. Increasing num_points will get us a more precise measurement of the magnetization per spin at different temperatures. Increasing num_sim will let our experimental results approach the long-time thermodynamic limit. "
   ],
   "metadata": {}
  },
  {
   "cell_type": "code",
   "execution_count": 15,
   "source": [
    "def full_sim_2d(d, N, num_points, num_sim, temperatures, H=0, output=\"mag\", rule='metropolis'):\r\n",
    "    \"\"\" (int, int, int, int, np.array, float, rule) -> (list, list) or (list, list, list, list)\r\n",
    "    d: dimension of grid\r\n",
    "    N: N**d is the total size of the grid\r\n",
    "    num_points: number of data points at each temperature\r\n",
    "    num_sim: total numer of simulations conducted on a strip\r\n",
    "    temperatures: range of temperatues at which we will simulate\r\n",
    "    H: the strength of the external field\r\n",
    "    output: controls the value we are simulating for (\"mag\", \"energy\", or \"both\")\r\n",
    "    \"\"\"\r\n",
    "\r\n",
    "    #the mean and standard_error functions come from my_math.py\r\n",
    "\r\n",
    "    if output == \"mag\":\r\n",
    "        magnetizations = [] #<m> of our simulations at various temperatues\r\n",
    "        magnetizations_unc = [] #uncertainties in <m>\r\n",
    "\r\n",
    "        for T in temperatures:\r\n",
    "            m_at_t = []\r\n",
    "            grid = np.array(init_grid(d, N))\r\n",
    "            for i in range(num_sim): \r\n",
    "                cycle(grid, T, H, rule)\r\n",
    "            for j in range(num_points):\r\n",
    "                cycle(grid, T, H, rule)\r\n",
    "                m_at_t.append(mag_per_spin(grid))\r\n",
    "            magnetizations.append(abs(mean(m_at_t)))\r\n",
    "            magnetizations_unc.append(standard_error(m_at_t))\r\n",
    "        return magnetizations, magnetizations_unc\r\n",
    "    elif output == \"energy\":\r\n",
    "        energies = [] #<m> of our simulations at various temperatues\r\n",
    "        energies_unc = [] #uncertainties in <m>\r\n",
    "        size = N**d\r\n",
    "\r\n",
    "        for T in temperatures:\r\n",
    "            e_at_t = []\r\n",
    "            grid = np.array(init_grid(d, N))\r\n",
    "            for i in range(num_sim): \r\n",
    "                cycle(grid, T, H, rule)\r\n",
    "            for j in range(num_points): \r\n",
    "                cycle(grid, T, H, rule)\r\n",
    "                e_at_t.append(energy(grid)/size)\r\n",
    "            energies.append(mean(e_at_t))\r\n",
    "            energies_unc.append(standard_error(e_at_t))\r\n",
    "        return energies, energies_unc\r\n",
    "    elif output == \"both\":\r\n",
    "        energies = [] #<m> of our simulations at various temperatues\r\n",
    "        energies_unc = [] #uncertainties in <m>\r\n",
    "        magnetizations = [] #<m> of our simulations at various temperatues\r\n",
    "        magnetizations_unc = [] #uncertainties in <m>\r\n",
    "        size = N**d\r\n",
    "        \r\n",
    "        for T in temperatures:\r\n",
    "            e_at_t = []\r\n",
    "            m_at_t = []\r\n",
    "            grid = np.array(init_grid(d, N))\r\n",
    "            for i in range(num_sim): \r\n",
    "                cycle(grid, T, H, rule)\r\n",
    "            for j in range(num_points): \r\n",
    "                cycle(grid, T, H, rule)\r\n",
    "                e_at_t.append(energy(grid)/size)\r\n",
    "                m_at_t.append(mag_per_spin(grid))\r\n",
    "            energies.append(mean(e_at_t))\r\n",
    "            energies_unc.append(standard_error(e_at_t))\r\n",
    "            magnetizations.append(abs(mean(m_at_t)))\r\n",
    "            magnetizations_unc.append(standard_error(m_at_t))\r\n",
    "        return energies, energies_unc, magnetizations, magnetizations_unc\r\n",
    "    else:\r\n",
    "        raise ValueError(\"The output parameter must be \\\"mag\\\", \\\"energy\\\", or \\\"both\\\".\")"
   ],
   "outputs": [],
   "metadata": {}
  },
  {
   "cell_type": "markdown",
   "source": [
    "<h4>H=0</h4>\r\n",
    "\r\n",
    "The mean field results, or the results we expect from the Monte Carlo method of simulation are (Grant 149):\r\n",
    "* $\\alpha=0$\r\n",
    "* $\\beta=1/2$\r\n",
    "* $\\gamma=1$\r\n",
    "* $\\delta=3$\r\n",
    "* $\\eta=0$\r\n",
    "* $\\nu=1/2$\r\n"
   ],
   "metadata": {}
  },
  {
   "cell_type": "code",
   "execution_count": 16,
   "source": [
    "#these values will be stored in separate variables so that we may easily change them\r\n",
    "d= 4\r\n",
    "N = 5\r\n",
    "num_points = 25\r\n",
    "num_sim = 3\r\n",
    "temperatures_h_0 = np.linspace(0.1, 4, 50) #the range of temperatures over which we will run our simulation\r\n",
    "\r\n",
    "energies, energies_unc, magnetizations, magnetizations_unc = full_sim_2d(d, N, num_points, num_sim, temperatures_h_0, 0, \"both\") #run the simulation"
   ],
   "outputs": [],
   "metadata": {}
  },
  {
   "cell_type": "code",
   "execution_count": 17,
   "source": [
    "plt.figure()\r\n",
    "\r\n",
    "plt.errorbar(x=temperatures_h_0, y=magnetizations, yerr=magnetizations_unc, marker='.', ls='', label='Simulation')\r\n",
    "\r\n",
    "plt.title(\"Magnetization per Spin vs. Temperature (H=0) (d=\" + str(d) +')')\r\n",
    "plt.xlabel(\"Temperature (J/k_B)\")\r\n",
    "plt.ylabel(\"<m>\")\r\n",
    "plt.axhline(color='k', lw=0.7)\r\n",
    "plt.legend()\r\n",
    "plt.show()\r\n",
    "\r\n",
    "#plotting residuals\r\n",
    "\"\"\"\r\n",
    "plt.figure()\r\n",
    "\r\n",
    "res = [magnetizations[i]-exp_m_h0[i] for i in range(len(magnetizations))]\r\n",
    "\r\n",
    "plt.errorbar(x=temperatures_h_0, y=res, yerr=magnetizations_unc, ls='', marker='.')\r\n",
    "\r\n",
    "plt.title(\"Residuals of Magnetization per Spin vs. Temperature (H=0)\")\r\n",
    "plt.xlabel(\"Temperature (J/k_B)\")\r\n",
    "plt.ylabel(\"<m>\")\r\n",
    "plt.axhline(color='k', lw=0.7)\r\n",
    "plt.show()\r\n",
    "\"\"\""
   ],
   "outputs": [
    {
     "output_type": "display_data",
     "data": {
      "text/plain": [
       "<Figure size 432x288 with 1 Axes>"
      ],
      "image/png": "[encoded data removed]"
     },
     "metadata": {
      "needs_background": "light"
     }
    },
    {
     "output_type": "execute_result",
     "data": {
      "text/plain": [
       "'\\nplt.figure()\\n\\nres = [magnetizations[i]-exp_m_h0[i] for i in range(len(magnetizations))]\\n\\nplt.errorbar(x=temperatures_h_0, y=res, yerr=magnetizations_unc, ls=\\'\\', marker=\\'.\\')\\n\\nplt.title(\"Residuals of Magnetization per Spin vs. Temperature (H=0)\")\\nplt.xlabel(\"Temperature (J/k_B)\")\\nplt.ylabel(\"<m>\")\\nplt.axhline(color=\\'k\\', lw=0.7)\\nplt.show()\\n'"
      ]
     },
     "metadata": {},
     "execution_count": 17
    }
   ],
   "metadata": {}
  },
  {
   "cell_type": "code",
   "execution_count": 18,
   "source": [
    "plt.figure()\r\n",
    "\r\n",
    "plt.errorbar(x=temperatures_h_0, y=energies, yerr=energies_unc, marker='.', ls='', label='Simulation')\r\n",
    "\r\n",
    "plt.title(\"Energy per Spin vs. Temperature (H=0) (d=\" + str(d) +')')\r\n",
    "plt.xlabel(\"Temperature (J/k_B)\")\r\n",
    "plt.ylabel(\"<E>/N\")\r\n",
    "plt.show()"
   ],
   "outputs": [
    {
     "output_type": "display_data",
     "data": {
      "text/plain": [
       "<Figure size 432x288 with 1 Axes>"
      ],
      "image/png": "[encoded data removed]"
     },
     "metadata": {
      "needs_background": "light"
     }
    }
   ],
   "metadata": {}
  },
  {
   "cell_type": "code",
   "execution_count": 19,
   "source": [
    "c_v_h_0 = list_derivative(temperatures_h_0, energies)\r\n",
    "\r\n",
    "plt.figure()\r\n",
    "\r\n",
    "plt.plot(temperatures_h_0, c_v_h_0, marker='.', ls='', label='Simulation')\r\n",
    "\r\n",
    "plt.title(\"Specific Heat Capacity vs. Temperature (H=0) (d=\" + str(d) +')')\r\n",
    "plt.xlabel(\"Temperature (J/k_B)\")\r\n",
    "plt.ylabel(\"Cv/N\")\r\n",
    "plt.show()"
   ],
   "outputs": [
    {
     "output_type": "display_data",
     "data": {
      "text/plain": [
       "<Figure size 432x288 with 1 Axes>"
      ],
      "image/png": "[encoded data removed]"
     },
     "metadata": {
      "needs_background": "light"
     }
    }
   ],
   "metadata": {}
  },
  {
   "cell_type": "markdown",
   "source": [
    "<h4>H&#8800;0</h4>"
   ],
   "metadata": {}
  },
  {
   "cell_type": "code",
   "execution_count": 20,
   "source": [
    "#these values will be stored in separate variables so that we may easily change them\r\n",
    "d= 4\r\n",
    "N = 5\r\n",
    "num_points = 25\r\n",
    "num_sim = 3\r\n",
    "H = 1\r\n",
    "temperatures_h_0 = np.linspace(0.1, 4, 50) #the range of temperatures over which we will run our simulation\r\n",
    "\r\n",
    "energies, energies_unc, magnetizations, magnetizations_unc = full_sim_2d(d, N, num_points, num_sim, temperatures_h_0, H, \"both\") #run the simulation"
   ],
   "outputs": [],
   "metadata": {}
  },
  {
   "cell_type": "code",
   "execution_count": 21,
   "source": [
    "plt.figure()\r\n",
    "\r\n",
    "plt.errorbar(x=temperatures_h_0, y=magnetizations, yerr=magnetizations_unc, marker='.', ls='', label='Simulation')\r\n",
    "\r\n",
    "plt.title(\"Magnetization per Spin vs. Temperature (H=\" + str(H) + \") (d=\" + str(d) +')')\r\n",
    "plt.xlabel(\"Temperature (J/k_B)\")\r\n",
    "plt.ylabel(\"<m>\")\r\n",
    "plt.axhline(color='k', lw=0.7)\r\n",
    "plt.legend()\r\n",
    "plt.show()\r\n",
    "\r\n",
    "#plotting residuals\r\n",
    "\"\"\"\r\n",
    "plt.figure()\r\n",
    "\r\n",
    "res = [magnetizations[i]-exp_m_h0[i] for i in range(len(magnetizations))]\r\n",
    "\r\n",
    "plt.errorbar(x=temperatures_h_0, y=res, yerr=magnetizations_unc, ls='', marker='.')\r\n",
    "\r\n",
    "plt.title(\"Residuals of Magnetization per Spin vs. Temperature (H=0)\")\r\n",
    "plt.xlabel(\"Temperature (J/k_B)\")\r\n",
    "plt.ylabel(\"<m>\")\r\n",
    "plt.axhline(color='k', lw=0.7)\r\n",
    "plt.show()\r\n",
    "\"\"\""
   ],
   "outputs": [
    {
     "output_type": "display_data",
     "data": {
      "text/plain": [
       "<Figure size 432x288 with 1 Axes>"
      ],
      "image/png": "[encoded data removed]"
     },
     "metadata": {
      "needs_background": "light"
     }
    },
    {
     "output_type": "execute_result",
     "data": {
      "text/plain": [
       "'\\nplt.figure()\\n\\nres = [magnetizations[i]-exp_m_h0[i] for i in range(len(magnetizations))]\\n\\nplt.errorbar(x=temperatures_h_0, y=res, yerr=magnetizations_unc, ls=\\'\\', marker=\\'.\\')\\n\\nplt.title(\"Residuals of Magnetization per Spin vs. Temperature (H=0)\")\\nplt.xlabel(\"Temperature (J/k_B)\")\\nplt.ylabel(\"<m>\")\\nplt.axhline(color=\\'k\\', lw=0.7)\\nplt.show()\\n'"
      ]
     },
     "metadata": {},
     "execution_count": 21
    }
   ],
   "metadata": {}
  },
  {
   "cell_type": "code",
   "execution_count": 22,
   "source": [
    "plt.figure()\r\n",
    "\r\n",
    "plt.errorbar(x=temperatures_h_0, y=energies, yerr=energies_unc, marker='.', ls='', label='Simulation')\r\n",
    "\r\n",
    "plt.title(\"Energy per Spin vs. Temperature (H=\" + str(H) + \") (d=\" + str(d) +')')\r\n",
    "plt.xlabel(\"Temperature (J/k_B)\")\r\n",
    "plt.ylabel(\"<E>/N\")\r\n",
    "plt.show()"
   ],
   "outputs": [
    {
     "output_type": "display_data",
     "data": {
      "text/plain": [
       "<Figure size 432x288 with 1 Axes>"
      ],
      "image/png": "[encoded data removed]"
     },
     "metadata": {
      "needs_background": "light"
     }
    }
   ],
   "metadata": {}
  },
  {
   "cell_type": "code",
   "execution_count": 23,
   "source": [
    "c_v_h_0 = list_derivative(temperatures_h_0, energies)\r\n",
    "\r\n",
    "plt.figure()\r\n",
    "\r\n",
    "plt.plot(temperatures_h_0, c_v_h_0, marker='.', ls='', label='Simulation')\r\n",
    "\r\n",
    "plt.title(\"Specific Heat Capacity vs. Temperature (H=\" + str(H) + \") (d=\" + str(d) +')')\r\n",
    "plt.xlabel(\"Temperature (J/k_B)\")\r\n",
    "plt.ylabel(\"Cv/N\")\r\n",
    "plt.show()"
   ],
   "outputs": [
    {
     "output_type": "display_data",
     "data": {
      "text/plain": [
       "<Figure size 432x288 with 1 Axes>"
      ],
      "image/png": "[encoded data removed]"
     },
     "metadata": {
      "needs_background": "light"
     }
    }
   ],
   "metadata": {}
  },
  {
   "cell_type": "markdown",
   "source": [
    "<h2>Sources</h2>\r\n",
    "\r\n",
    "* Grant, Martin. <em>Dirty tricks for statistical mechanics</em>. 2004.\r\n",
    "    * Available here: <http://www.physics.mcgill.ca/~grant/559/notes0.91.pdf>\r\n",
    "* Holmes-Cerfon, Miranda. <em>Lecture 3: Markov Chains (II): Detailed Balance, and Markov Chain Monte Carlo (MCMC)</em>. 2019.\r\n",
    "    * Available here: <https://cims.nyu.edu/~holmes/teaching/asa19/handout_Lecture3_2019.pdf>\r\n",
    "* Pathria, R. K., and Paul D. Beale. <em>Statistical Mechanics</em>. Elsevier, 2011. \r\n",
    "* Salinas S.R.A. <em>Introduction to Statistical Physics</em>. 2001. Graduate Texts in Contemporary Physics. Springer, New York, NY. <https://doi.org/10.1007/978-1-4757-3508-6_13>\r\n",
    "    * Relevant chapter available here: <http://www.lps.ens.fr/~krzakala/ISINGMODEL.pdf>\r\n"
   ],
   "metadata": {}
  }
 ],
 "metadata": {
  "orig_nbformat": 4,
  "language_info": {
   "name": "python",
   "version": "3.8.5",
   "mimetype": "text/x-python",
   "codemirror_mode": {
    "name": "ipython",
    "version": 3
   },
   "pygments_lexer": "ipython3",
   "nbconvert_exporter": "python",
   "file_extension": ".py"
  },
  "kernelspec": {
   "name": "python3",
   "display_name": "Python 3.8.5 64-bit ('base': conda)"
  },
  "interpreter": {
   "hash": "bd644ae36b363e1a7f94b574dd18bd2e40ee8b93902e856ce9f0f7a17fda2410"
  }
 },
 "nbformat": 4,
 "nbformat_minor": 2
}