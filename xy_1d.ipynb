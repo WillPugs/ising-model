{
 "cells": [
  {
   "cell_type": "markdown",
   "source": [
    "<h1>1D Ising Model: Monte Carlo Simulations</h1>\r\n",
    "<h4>William Pugsley </h4>"
   ],
   "metadata": {}
  },
  {
   "cell_type": "code",
   "execution_count": 82,
   "source": [
    "import random\r\n",
    "import matplotlib.pyplot as plt\r\n",
    "import numpy as np\r\n",
    "from scipy.optimize import curve_fit\r\n",
    "from math import sqrt, cosh, sinh, log, exp, tanh\r\n",
    "\r\n",
    "#this module contains the statistical functions used throughout the simulation\r\n",
    "from my_math import *\r\n",
    "\r\n",
    "#Thermodynamic constants\r\n",
    "k_B = 1.380649e-23 #Units: J/K"
   ],
   "outputs": [],
   "metadata": {}
  },
  {
   "cell_type": "markdown",
   "source": [
    "<h2>Algorithm</h2>\r\n",
    "\r\n",
    "The Monte Carlo algorithm we will use (Holmes-Cerfon 6-9) consists of creating a grid of vectors free to spin in the XY plane, this will be realized as a d-dimensional array of 2-dimensional vectors with magntiudes of 1 and pointing in random directions. This algorithm will apply to any dimension d. We will randomly select a spin and calculate the energy change, $\\Delta E$ associated with replacing the spin with a new random vector. The new state will be accepted with probability $Prob=W(\\sigma',\\sigma)$, where $W(\\sigma',\\sigma)$ satisfies the detailed balance equation (Grant 41); for our purposes this will be either the Glauber rule or the Metropolis rule. \r\n",
    "\r\n",
    "$W_{Metropolis}(\\sigma',\\sigma)=1 \\; \\Delta E \\leq 0, \\: e^{\\frac{-\\Delta E}{k_BT}} \\; \\Delta E \\gt 0$\r\n",
    "\r\n",
    "$W_{Glauber}(\\sigma',\\sigma)=\\frac{1}{2}(1-tanh(\\frac{\\Delta E}{2k_BT}))$\r\n",
    "\r\n",
    "We will do this N times for N total spins, this is one Monte Carlo cycle. Completing N cycles for our N spins will consist of one Monte Carlo simulation (Grant 45). At the end of a simulation we can calculate the total magnetization and the magnetization per spin; with these quantities we can verify our theoretical expectation of $<m>$. Repeating for diferent temperatures should yield the temperature dependence of $<m>$. The correlation function, $<S_iS_{i+r}>$ can also be calculated from the same simulation."
   ],
   "metadata": {}
  },
  {
   "cell_type": "markdown",
   "source": [
    "<h2>1-Dimensional XY Model</h2>\r\n",
    "\r\n",
    "The one-dimensional XY model consists of a strip of N sites each containing a spin, $\\vec{S_i}$, such that $|\\vec{S_i}|=1$ and $\\vec{S_i}$ is pointing in a random direction for all i=1,...,N. The energy of a state is defined such that neighboring spins pointing in the same direction as well as spins pointing in the direction of an external field, H, are favored.\r\n",
    "\r\n",
    "$E_{state}=-J\\sum_{j=1}^{N}\\vec{S_j}\\cdot\\vec{S_{j+1}} - H\\sum_{j=1}^N\\vec{S_i}$ \r\n",
    "\r\n",
    "J is strength of interactions between neighboring spins"
   ],
   "metadata": {}
  },
  {
   "cell_type": "markdown",
   "source": [
    "<h4>Setup</h4>"
   ],
   "metadata": {}
  },
  {
   "cell_type": "code",
   "execution_count": 83,
   "source": [
    "#the Vector class used throughout this simulation is imported from the my_math module\r\n",
    "def rand_unit_xy():\r\n",
    "    \"\"\" (int) -> (Vector)\r\n",
    "    Generates a 2-dimensional unit vector pointing in a random direction.\r\n",
    "    \"\"\"\r\n",
    "    return Vector([random.uniform(-1,1), random.uniform(-1,1)]).unit()\r\n",
    "\r\n",
    "def init_grid_1d(length):\r\n",
    "    \"\"\" (int) -> (list)\r\n",
    "    Creates a list with 'length' entries of random 2D Vectors.\r\n",
    "    \"\"\"\r\n",
    "    return [rand_unit_xy() for i in range(length)]\r\n",
    "\r\n",
    "def total_mag_1d(grid):\r\n",
    "    \"\"\" (list) -> (num)\r\n",
    "    Calculates the magnitude of the total magnetization of a 1-dimensional grid of 2D Vectors.\r\n",
    "    \"\"\"\r\n",
    "    tot = Vector([0,0]) #total\r\n",
    "    for spin in grid:\r\n",
    "        tot += spin\r\n",
    "    return tot.magnitude()\r\n",
    "\r\n",
    "def mag_per_spin_1d(grid):\r\n",
    "    \"\"\" (list) -> (float)\r\n",
    "    Calculates the magnitude of the magnetization per spin of a 1-dimensional grid of 2D Vectors.\r\n",
    "    \"\"\"\r\n",
    "    return total_mag_1d(grid)/len(grid)\r\n",
    "\r\n",
    "def energy_1d(grid, H=None):\r\n",
    "    \"\"\" (list, Vector) -> (num)\r\n",
    "    Calculates the total energy of a one-dimensional grid of 2D Vectors with an external field, H,\r\n",
    "    represented by another 2D Vector.\r\n",
    "    \"\"\"\r\n",
    "    if H is None:\r\n",
    "        H = Vector([0,0])\r\n",
    "        \r\n",
    "    e = 0\r\n",
    "    N = len(grid)\r\n",
    "\r\n",
    "    for i in range(N): #interaction between spins\r\n",
    "        e += grid[i].dot(grid[(i+1)%N])\r\n",
    "\r\n",
    "    for spin in grid: #external field interactions\r\n",
    "        e += H.dot(spin)\r\n",
    "    \r\n",
    "    return -e\r\n",
    "\r\n",
    "def print_grid_1d(grid):\r\n",
    "    \"\"\" (list) -> (None)\r\n",
    "    Prints a visulation of the one-dimensional grid given as input.\r\n",
    "    \"\"\"\r\n",
    "    s = \"|\"\r\n",
    "    for spin in grid:\r\n",
    "        s += str(spin) + \", \"\r\n",
    "    print(s[:-2] + \"|\")"
   ],
   "outputs": [],
   "metadata": {}
  },
  {
   "cell_type": "code",
   "execution_count": 84,
   "source": [
    "def energy_change_1d(grid, idx, vec, H=None):\r\n",
    "    \"\"\" (list, int, Vector, Vector) -> (int)\r\n",
    "    Calculates the energy change associated with flipping the spin at the idx position to the vec Vector. \r\n",
    "    The change is in units of J. H is the external field also in units of J.\r\n",
    "    \"\"\"\r\n",
    "    if H is None:\r\n",
    "        H = Vector([0,0])\r\n",
    "\r\n",
    "    n = len(grid)\r\n",
    "    # change in E = E_final - E_initial\r\n",
    "    return -vec.dot(grid[(idx+1)%n]) - H.dot(vec) + grid[idx].dot(grid[(idx+1)%n]) + H.dot(grid[idx])\r\n",
    "\r\n",
    "#we can use the Glauber rule to calculate the probability of a state transition\r\n",
    "def glauber_1d(grid, idx, vec, temp, H=None):\r\n",
    "    \"\"\" (list, int, Vector, float, Vector) -> (float)\r\n",
    "    Calculates the probability that a change of state of a 1-dimensional grid, with energy change given by energy, \r\n",
    "    will occur at a given temperature, temp. The probability is calculated using the Glauber rule. \r\n",
    "    \"\"\" \r\n",
    "    energy = energy_change_1d(grid, idx, vec, H)\r\n",
    "    return 0.5*(1 - tanh(0.5*energy/temp))\r\n",
    "\r\n",
    "#we can also use metropolis rule\r\n",
    "def metropolis_1d(grid, idx, vec, temp, H=None):\r\n",
    "    \"\"\" (list, int, Vector, float, Vector) -> (float)\r\n",
    "    Calculates the probability that a change of state of a 1-dimensional grid, with energy change given by energy, \r\n",
    "    will occur at a given temperature, temp. The probability is calculated using the Metropolis rule. \r\n",
    "    \"\"\"\r\n",
    "    energy = energy_change_1d(grid, idx, vec, H)\r\n",
    "    if energy <= 0:\r\n",
    "        return 1\r\n",
    "    return exp(-energy/temp)\r\n",
    "\r\n",
    "\r\n",
    "def flip_1d(grid, idx, temp, H=None, rule=\"metropolis\"):\r\n",
    "    \"\"\" (list, int, Vector, float) -> ()\r\n",
    "    Flips the spin in grid at site idx with a probability given by the Glauber or Metropolis rule at temperature temp.\r\n",
    "    \"\"\"\r\n",
    "    vec = rand_unit_xy() #new unit Vector\r\n",
    "\r\n",
    "    if rule == \"glauber\":\r\n",
    "        prob = glauber_1d(grid, idx, vec, temp, H)\r\n",
    "    elif rule == \"metropolis\":\r\n",
    "        prob = metropolis_1d(grid, idx, vec, temp, H)\r\n",
    "    else:\r\n",
    "        raise ValueError(\"The rule argument take \\\"glauber\\\" or \\\"metropolis\\\" as input.\") \r\n",
    "\r\n",
    "    choice = random.uniform(0, 1)\r\n",
    "    \r\n",
    "    if choice <= prob: #will flip\r\n",
    "        grid[idx] = vec\r\n",
    "    #otherwise will not flip and nothing happens\r\n",
    "\r\n",
    "def cycle_1d(grid, temp, H=None, rule='metropolis'):\r\n",
    "    \"\"\" (list, float, Vector, str) -> ()\r\n",
    "    Will conduct one Monte Carlo cycle over grid at temperature temp. \r\n",
    "    \"\"\"\r\n",
    "    length = len(grid) \r\n",
    "    for i in range(length): #test flip at each site\r\n",
    "        idx = random.randint(0, length-1)\r\n",
    "        flip_1d(grid, idx, temp, H, rule)\r\n",
    "\r\n",
    "def simulation_1d(grid, temp, H=None, rule='metropolis'):\r\n",
    "    \"\"\" (list, float, Vector, str) -> ()\r\n",
    "    Will conduct one Monte Carlo simulation over grid at temperature temp. \r\n",
    "    \"\"\"\r\n",
    "    length = len(grid)\r\n",
    "    for i in range(length): #N Monte Carlo cycles for N sites is one simulation\r\n",
    "        cycle_1d(grid, temp, H, rule)"
   ],
   "outputs": [],
   "metadata": {}
  },
  {
   "cell_type": "code",
   "execution_count": 85,
   "source": [
    "def correlation_1d(grid, r):\r\n",
    "    \"\"\" (np.array, int) -> (float)\r\n",
    "    Returns the expected value of correlations <Si*Si+r> of a one-dimensional strip.\r\n",
    "    \"\"\"\r\n",
    "    length = len(grid)\r\n",
    "    return mean([grid[i].dot(grid[(i+r)%length]) for i in range(length)])\r\n",
    "\r\n",
    "def plot_quiver_1d(grid):\r\n",
    "    \"\"\" (list) -> (None)\r\n",
    "    Given a 1D list of Vectors, plots the quiver plot of this XY grid.\r\n",
    "    \"\"\"\r\n",
    "    X = [x for x in range(len(grid))]\r\n",
    "    Y = [0 for x in range(len(grid))]\r\n",
    "\r\n",
    "    U = []\r\n",
    "    V = []\r\n",
    "    for spin in grid:\r\n",
    "        U.append(spin[0])\r\n",
    "        V.append(spin[1])\r\n",
    "\r\n",
    "    plt.figure()\r\n",
    "    plt.quiver(X,Y,U,V)\r\n",
    "    #plt.xticks([])\r\n",
    "    plt.yticks([])\r\n",
    "    plt.show()"
   ],
   "outputs": [],
   "metadata": {}
  },
  {
   "cell_type": "markdown",
   "source": [
    "<h4>Simulation</h4>"
   ],
   "metadata": {}
  },
  {
   "cell_type": "markdown",
   "source": [
    "We will create a one-dimensional strip of N sites and run a total of num_sim Monte Carlo simulations before recording the magnetization per spin. We will do this num_points times, to get that many data points, at each temperature T in temperatues. Increasing num_points will get us a more precise measurement of the magnetization per spin at different temperatures. Increasing num_sim will let our experimental results approach the long-time thermodynamic limit "
   ],
   "metadata": {}
  },
  {
   "cell_type": "code",
   "execution_count": 87,
   "source": [
    "def full_sim_1d(N, num_points, num_sim, temperatures, H=None, output='mag', rule='metropolis'):\r\n",
    "    \"\"\" (int, int, int, np.array, Vector, str, str) -> (list, list)\r\n",
    "    N: total number of spin sites\r\n",
    "    num_points: number of data points at each temperature\r\n",
    "    num_sim: total numer of simulations conducted on a strip\r\n",
    "    temperatures: range of temperatues at which we will simulate\r\n",
    "    H: the strength of the external field\r\n",
    "    output: the variable we are measuring (magnetization per spin, correlation function, or energy per spin) \r\n",
    "    \"\"\"\r\n",
    "    if output == \"mag\":\r\n",
    "        magnetizations = [] #<m> of our simulations at various temperatues\r\n",
    "        magnetizations_unc = [] #uncertainties in <m>\r\n",
    "\r\n",
    "        for T in temperatures:\r\n",
    "            m_at_t = []\r\n",
    "            strip = init_grid_1d(N)\r\n",
    "            for i in range(num_sim): #we do num_sim simulations for each strip\r\n",
    "                cycle_1d(strip, T, H, rule)\r\n",
    "            for j in range(num_points): #we do num_points simulations at each temperature for that many data points\r\n",
    "                cycle_1d(strip, T, H, rule)\r\n",
    "                m_at_t.append(mag_per_spin_1d(strip))\r\n",
    "            magnetizations.append(mean(m_at_t))\r\n",
    "            magnetizations_unc.append(standard_error(m_at_t))\r\n",
    "        return magnetizations, magnetizations_unc\r\n",
    "    elif output == \"energy\":\r\n",
    "        energies = [] #<E> of our simulations at various temperatues\r\n",
    "        energies_unc = [] #uncertainties in <E>\r\n",
    "\r\n",
    "        for T in temperatures:\r\n",
    "            e_at_t = []\r\n",
    "            strip = init_grid_1d(N)\r\n",
    "            for i in range(num_sim): #we do num_sim simulations for each strip\r\n",
    "                cycle_1d(strip, T, H, rule)\r\n",
    "            for j in range(num_points): #we do num_points simulations at each temperature for that many data points\r\n",
    "                cycle_1d(strip, T, H, rule)\r\n",
    "                e_at_t.append(energy_1d(strip, H)/len(strip)) #energy per spin\r\n",
    "            energies.append(mean(e_at_t))\r\n",
    "            energies_unc.append(standard_error(e_at_t))\r\n",
    "        return energies, energies_unc\r\n",
    "    elif output == \"corr\": #finds the correlation function of the 1D Ising model at the first value in temperatures\r\n",
    "        correlations = [[] for i in range(N//2)] #list of all the data points at each r\r\n",
    "        T = temperatures[0]\r\n",
    "\r\n",
    "        strip = init_grid_1d(N)\r\n",
    "        for i in range(num_sim): #we do num_sim simulations for each strip\r\n",
    "            cycle_1d(strip, T, H, rule)\r\n",
    "\r\n",
    "        for j in range(num_points): #we want num_points data points at each r\r\n",
    "            cycle_1d(strip, T, H, rule)\r\n",
    "            for r in range(N//2):\r\n",
    "                correlations[r].append(abs(correlation_1d(strip, r)))\r\n",
    "\r\n",
    "        correlations_unc = [standard_error(x) for x in correlations] #uncertainty at each r\r\n",
    "        for k in range(len(correlations)): #average at each r\r\n",
    "            correlations[k] = mean(correlations[k])\r\n",
    "\r\n",
    "        return correlations, correlations_unc\r\n",
    "    raise ValueError(\"The output paramter must be \\\"mag\\\", \\\"energy\\\", or \\\"corr\\\".\")"
   ],
   "outputs": [],
   "metadata": {}
  },
  {
   "cell_type": "markdown",
   "source": [
    "<h4>H=0</h4>"
   ],
   "metadata": {}
  },
  {
   "cell_type": "code",
   "execution_count": 88,
   "source": [
    "#these values will be stored in separate variables so that we may easily change them\r\n",
    "length = 100\r\n",
    "num_points = 50\r\n",
    "num_sim = 3\r\n",
    "temperatures_h_0 = np.linspace(0.1, 2, 15) #the range of temperatures over which we will run our simulation\r\n",
    "\r\n",
    "magnetizations, magnetizations_unc = full_sim_1d(length, num_points, num_sim, temperatures_h_0, output='mag') #run the simulation"
   ],
   "outputs": [],
   "metadata": {}
  },
  {
   "cell_type": "code",
   "execution_count": 89,
   "source": [
    "plt.figure()\r\n",
    "\r\n",
    "plt.errorbar(x=temperatures_h_0, y=magnetizations, yerr=magnetizations_unc, marker='.', ls='', label='Simulation') #simulation results for <m>\r\n",
    "#plt.plot(temperatures_h_0, exp_m, 'r-', label='Expected') #expected: <m>=0\r\n",
    "\r\n",
    "plt.legend(loc='best')\r\n",
    "plt.title(\"Magnetization per Spin vs. Temperature (H=0)\")\r\n",
    "plt.ylabel(\"m\")\r\n",
    "plt.xlabel(\"Temperature (J/k_B)\")\r\n",
    "plt.axhline(color='k', lw=0.5)\r\n",
    "plt.show()\r\n",
    "\r\n",
    "\r\n",
    "plt.figure()\r\n",
    "\r\n",
    "#the following two lines of code are so our residuals will have error bars\r\n",
    "\"\"\"\r\n",
    "res_1d_stderror = standard_error(residuals_1d)\r\n",
    "residuals_1d_unc = [res_1d_stderror for i in residuals_1d]\r\n",
    "\r\n",
    "plt.errorbar(x=temperatures_h_0, y=residuals_1d, yerr=residuals_1d_unc, color='k', marker='.', ls='') #plotting residuals of <m>\r\n",
    "\r\n",
    "plt.title('Residuals of Magnetizations per Spin vs. Temperature (H=0)')\r\n",
    "plt.xlabel('Temperatures (J/k_B)')\r\n",
    "plt.ylabel('m')\r\n",
    "plt.axhline(color='k', lw=0.5)\r\n",
    "plt.show()\r\n",
    "\"\"\""
   ],
   "outputs": [
    {
     "output_type": "display_data",
     "data": {
      "text/plain": [
       "<Figure size 432x288 with 1 Axes>"
      ],
      "image/png": "[encoded data removed]"
     },
     "metadata": {
      "needs_background": "light"
     }
    },
    {
     "output_type": "execute_result",
     "data": {
      "text/plain": [
       "\"\\nres_1d_stderror = standard_error(residuals_1d)\\nresiduals_1d_unc = [res_1d_stderror for i in residuals_1d]\\n\\nplt.errorbar(x=temperatures_h_0, y=residuals_1d, yerr=residuals_1d_unc, color='k', marker='.', ls='') #plotting residuals of <m>\\n\\nplt.title('Residuals of Magnetizations per Spin vs. Temperature (H=0)')\\nplt.xlabel('Temperatures (J/k_B)')\\nplt.ylabel('m')\\nplt.axhline(color='k', lw=0.5)\\nplt.show()\\n\""
      ]
     },
     "metadata": {},
     "execution_count": 89
    },
    {
     "output_type": "display_data",
     "data": {
      "text/plain": [
       "<Figure size 432x288 with 0 Axes>"
      ]
     },
     "metadata": {}
    }
   ],
   "metadata": {}
  },
  {
   "cell_type": "markdown",
   "source": [
    "We can run a very similar simulation for the energies when H=0."
   ],
   "metadata": {}
  },
  {
   "cell_type": "code",
   "execution_count": 90,
   "source": [
    "#these values will be stored in separate variables so that we may easily change them\r\n",
    "length = 100\r\n",
    "num_points = 50\r\n",
    "num_sim = 3\r\n",
    "temperatures_h_0 = np.linspace(0.1, 2, 15) #the range of temperatures over which we will run our simulation\r\n",
    "\r\n",
    "energies, energies_unc = full_sim_1d(length, num_points, num_sim, temperatures_h_0, output='energy') #run the simulation"
   ],
   "outputs": [],
   "metadata": {}
  },
  {
   "cell_type": "code",
   "execution_count": 91,
   "source": [
    "plt.figure()\r\n",
    "\r\n",
    "plt.errorbar(x=temperatures_h_0, y=energies, yerr=energies_unc, marker='.', ls='', label='Simulation') #simulation results for <e>\r\n",
    "#plt.plot(temperatures_h_0, exp_e, 'r-', label='Expected') #expected: <e>=0\r\n",
    "\r\n",
    "plt.legend(loc='upper left')\r\n",
    "plt.title(\"Energy per Spin vs. Temperature (H=0)\")\r\n",
    "plt.ylabel(\"<E>/N (J)\")\r\n",
    "plt.xlabel(\"Temperature (J/k_B)\")\r\n",
    "plt.axhline(color='k', lw=0.5)\r\n",
    "plt.show()\r\n",
    "\r\n",
    "\r\n",
    "plt.figure()\r\n",
    "\r\n",
    "#the following two lines of code are so our residuals will have error bars\r\n",
    "\"\"\"\r\n",
    "res_1d_stderror = standard_error(residuals_1d)\r\n",
    "residuals_1d_unc = [res_1d_stderror for i in residuals_1d]\r\n",
    "\r\n",
    "plt.errorbar(x=temperatures_h_0, y=residuals_1d, yerr=residuals_1d_unc, color='k', marker='.', ls='') #plotting residuals of <m>\r\n",
    "\r\n",
    "plt.title('Residuals of Energy per Spin vs. Temperature (H=0)')\r\n",
    "plt.xlabel('Temperatures (J/k_B)')\r\n",
    "plt.ylabel('<E>/N (J)')\r\n",
    "plt.axhline(color='k', lw=0.5)\r\n",
    "plt.show()\r\n",
    "\"\"\""
   ],
   "outputs": [
    {
     "output_type": "display_data",
     "data": {
      "text/plain": [
       "<Figure size 432x288 with 1 Axes>"
      ],
      "image/png": "[encoded data removed]"
     },
     "metadata": {
      "needs_background": "light"
     }
    },
    {
     "output_type": "execute_result",
     "data": {
      "text/plain": [
       "\"\\nres_1d_stderror = standard_error(residuals_1d)\\nresiduals_1d_unc = [res_1d_stderror for i in residuals_1d]\\n\\nplt.errorbar(x=temperatures_h_0, y=residuals_1d, yerr=residuals_1d_unc, color='k', marker='.', ls='') #plotting residuals of <m>\\n\\nplt.title('Residuals of Energy per Spin vs. Temperature (H=0)')\\nplt.xlabel('Temperatures (J/k_B)')\\nplt.ylabel('<E>/N (J)')\\nplt.axhline(color='k', lw=0.5)\\nplt.show()\\n\""
      ]
     },
     "metadata": {},
     "execution_count": 91
    },
    {
     "output_type": "display_data",
     "data": {
      "text/plain": [
       "<Figure size 432x288 with 0 Axes>"
      ]
     },
     "metadata": {}
    }
   ],
   "metadata": {}
  },
  {
   "cell_type": "code",
   "execution_count": 92,
   "source": [
    "c_v_h_0 = list_derivative(temperatures_h_0, energies)\r\n",
    "\r\n",
    "\"\"\"\r\n",
    "def cvh0_expected(temp):\r\n",
    "    return (1/cosh(1/temp))**2/temp\r\n",
    "\r\n",
    "exp_cv = [cvh0_expected(T) for T in temperatures_h_0]\r\n",
    "\"\"\"\r\n",
    "\r\n",
    "plt.figure()\r\n",
    "\r\n",
    "plt.plot(temperatures_h_0, c_v_h_0, marker='.', ls='', label='Simulation')\r\n",
    "#plt.plot(temperatures_h_0, exp_cv, 'r-', label='Expected')\r\n",
    "\r\n",
    "plt.title(\"Specific Heat Capacity vs. Temperature (H=0)\")\r\n",
    "plt.xlabel(\"Temperature (J/k_B)\")\r\n",
    "plt.ylabel(\"Cv/k_B\")\r\n",
    "plt.legend()\r\n",
    "plt.show()"
   ],
   "outputs": [
    {
     "output_type": "display_data",
     "data": {
      "text/plain": [
       "<Figure size 432x288 with 1 Axes>"
      ],
      "image/png": "[encoded data removed]"
     },
     "metadata": {
      "needs_background": "light"
     }
    }
   ],
   "metadata": {}
  },
  {
   "cell_type": "markdown",
   "source": [
    "Next we will consider the correlation function."
   ],
   "metadata": {}
  },
  {
   "cell_type": "code",
   "execution_count": 93,
   "source": [
    "#these values will be stored in separate variables so that we may easily change them\r\n",
    "length = 50\r\n",
    "num_points = 50\r\n",
    "num_sim = 10\r\n",
    "\r\n",
    "#correlation function at low, medium, and high temperatures\r\n",
    "corr_low_t, corr_low_t_unc = full_sim_1d(length, num_points, num_sim, [0.1], output=\"corr\")\r\n",
    "corr_med_t, corr_med_t_unc = full_sim_1d(length, num_points, num_sim, [1], output=\"corr\")\r\n",
    "corr_high_t, corr_high_t_unc = full_sim_1d(length, num_points, num_sim, [10], output=\"corr\")"
   ],
   "outputs": [],
   "metadata": {}
  },
  {
   "cell_type": "code",
   "execution_count": 94,
   "source": [
    "r = range(length//2)\r\n",
    "\r\n",
    "plt.figure()\r\n",
    "\r\n",
    "#correlation results at various temperatures\r\n",
    "plt.errorbar(x=r, y=corr_low_t, yerr=corr_low_t_unc, marker='.', ls='None', label=\"Low T\") \r\n",
    "plt.errorbar(x=r, y=corr_med_t, yerr=corr_med_t_unc, marker='.', ls='None', label=\"Medium T\") \r\n",
    "plt.errorbar(x=r, y=corr_high_t, yerr=corr_high_t_unc, marker='.', ls='None', label=\"High T\") \r\n",
    "\r\n",
    "plt.title(\"Correlation Function of Simulation (H=0)\")\r\n",
    "plt.xlabel(\"r\")\r\n",
    "plt.ylabel(\"Correlation\")\r\n",
    "\r\n",
    "plt.legend()\r\n",
    "plt.axhline(color='k', lw=0.5)\r\n",
    "plt.show()"
   ],
   "outputs": [
    {
     "output_type": "display_data",
     "data": {
      "text/plain": [
       "<Figure size 432x288 with 1 Axes>"
      ],
      "image/png": "[encoded data removed]"
     },
     "metadata": {
      "needs_background": "light"
     }
    }
   ],
   "metadata": {}
  },
  {
   "cell_type": "markdown",
   "source": [
    "<h4>H&#8800;0</h4>"
   ],
   "metadata": {}
  },
  {
   "cell_type": "code",
   "execution_count": 95,
   "source": [
    "#these values will be stored in separate variables so that we may easily change them\r\n",
    "length = 20\r\n",
    "num_points = 10\r\n",
    "num_sim = 1\r\n",
    "temperatures = np.linspace(0.1, 2, 19) #the range of temperatures over which we will run our simulation\r\n",
    "\r\n",
    "mag_minus5, mag_unc_minus5 = full_sim_1d(length, num_points, num_sim, temperatures, Vector([-5,0])) #H=<-5,0>\r\n",
    "mag_minus1, mag_unc_minus1 = full_sim_1d(length, num_points, num_sim, temperatures, Vector([0,-1])) #H=<0,-1>\r\n",
    "mag_1, mag_unc_1 = full_sim_1d(length, num_points, num_sim, temperatures, Vector([1,0])) #H=<1,0>\r\n",
    "mag_5, mag_unc_5 = full_sim_1d(length, num_points, num_sim, temperatures, Vector([0,5])) #H=<0,5>"
   ],
   "outputs": [],
   "metadata": {}
  },
  {
   "cell_type": "code",
   "execution_count": 96,
   "source": [
    "plt.figure()\r\n",
    "\r\n",
    "#simulation results\r\n",
    "plt.errorbar(x=temperatures, y=mag_5, yerr=mag_unc_5, label=\"H=<0,5>\", color='b', marker='.', ls='')\r\n",
    "plt.errorbar(x=temperatures, y=mag_1, yerr=mag_unc_1, label=\"H=<1,0>\", color='g', marker='.', ls='')\r\n",
    "plt.errorbar(x=temperatures, y=mag_minus1, yerr=mag_unc_minus1, label=\"H=<-1,0>\", color='r', marker='.', ls='')\r\n",
    "plt.errorbar(x=temperatures, y=mag_minus5, yerr=mag_unc_minus5, label=\"H=<0,-5>\", color='m', marker='.', ls='')\r\n",
    "\r\n",
    "\"\"\"\r\n",
    "#expectation values\r\n",
    "plt.plot(temperatures, expected5, color='b')\r\n",
    "plt.plot(temperatures, expected1, color='g')\r\n",
    "plt.plot(temperatures, expected_minus1, color='r')\r\n",
    "plt.plot(temperatures, expected_minus5, color='m')\r\n",
    "\"\"\"\r\n",
    "\r\n",
    "plt.title(\"Magnetization per Spin vs. Temperature & H\")\r\n",
    "plt.xlabel(\"Temperature (J/k_B\")\r\n",
    "plt.ylabel(\"Magnetization per spin\")\r\n",
    "plt.legend()\r\n",
    "plt.axhline(color='k', lw=0.5)\r\n",
    "plt.show()"
   ],
   "outputs": [
    {
     "output_type": "display_data",
     "data": {
      "text/plain": [
       "<Figure size 432x288 with 1 Axes>"
      ],
      "image/png": "[encoded data removed]"
     },
     "metadata": {
      "needs_background": "light"
     }
    }
   ],
   "metadata": {}
  },
  {
   "cell_type": "markdown",
   "source": [
    "<h2>Sources</h2>\r\n",
    "\r\n",
    "* Grant, Martin. <em>Dirty tricks for statistical mechanics</em>. 2004.\r\n",
    "    * Available here: <http://www.physics.mcgill.ca/~grant/559/notes0.91.pdf>\r\n",
    "* Holmes-Cerfon, Miranda. <em>Lecture 3: Markov Chains (II): Detailed Balance, and Markov Chain Monte Carlo (MCMC)</em>. 2019.\r\n",
    "    * Available here: <https://cims.nyu.edu/~holmes/teaching/asa19/handout_Lecture3_2019.pdf>\r\n",
    "* Pathria, R. K., and Paul D. Beale. <em>Statistical Mechanics</em>. Elsevier, 2011. "
   ],
   "metadata": {}
  },
  {
   "cell_type": "markdown",
   "source": [],
   "metadata": {}
  }
 ],
 "metadata": {
  "orig_nbformat": 4,
  "language_info": {
   "name": "python",
   "version": "3.8.5",
   "mimetype": "text/x-python",
   "codemirror_mode": {
    "name": "ipython",
    "version": 3
   },
   "pygments_lexer": "ipython3",
   "nbconvert_exporter": "python",
   "file_extension": ".py"
  },
  "kernelspec": {
   "name": "python3",
   "display_name": "Python 3.8.5 64-bit ('base': conda)"
  },
  "interpreter": {
   "hash": "bd644ae36b363e1a7f94b574dd18bd2e40ee8b93902e856ce9f0f7a17fda2410"
  }
 },
 "nbformat": 4,
 "nbformat_minor": 2
}