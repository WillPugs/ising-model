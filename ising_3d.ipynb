{
 "metadata": {
  "language_info": {
   "codemirror_mode": {
    "name": "ipython",
    "version": 3
   },
   "file_extension": ".py",
   "mimetype": "text/x-python",
   "name": "python",
   "nbconvert_exporter": "python",
   "pygments_lexer": "ipython3",
   "version": "3.8.5"
  },
  "orig_nbformat": 4,
  "kernelspec": {
   "name": "python3",
   "display_name": "Python 3.8.5 64-bit ('base': conda)"
  },
  "interpreter": {
   "hash": "bd644ae36b363e1a7f94b574dd18bd2e40ee8b93902e856ce9f0f7a17fda2410"
  }
 },
 "nbformat": 4,
 "nbformat_minor": 2,
 "cells": [
  {
   "cell_type": "markdown",
   "source": [
    "<h1>3D Ising Model: Monte Carlo Simulations</h1>\n",
    "<h4>William Pugsley </h4>"
   ],
   "metadata": {}
  },
  {
   "cell_type": "code",
   "execution_count": 1,
   "source": [
    "import random\r\n",
    "import matplotlib.pyplot as plt\r\n",
    "import numpy as np\r\n",
    "from scipy.optimize import curve_fit\r\n",
    "from math import sqrt, cosh, sinh, log, exp, tanh\r\n",
    "\r\n",
    "#this module contains the statistical functions used throughout the simulation\r\n",
    "from my_math import *\r\n",
    "\r\n",
    "#Thermodynamic constants\r\n",
    "k_B = 1.380649e-23 #Units: J/K"
   ],
   "outputs": [],
   "metadata": {}
  },
  {
   "cell_type": "markdown",
   "source": [
    "<h2>Algorithm</h2>\n",
    "\n",
    "The Monte Carlo algorithm we will use (Holmes-Cerfon 6-9) consists of creating a grid of positive and negative spins, this will be realized as a d-dimensional numpy array of +1 and -1 randomly. This algorithm will apply to any dimension d. We will randomly select a spin and calculate the energy change, $\\Delta E$ associated with flipping the spin. The new state will be accepted with probability $Prob=W(\\sigma',\\sigma)$, where $W(\\sigma',\\sigma)$ satisfies the detailed balance equation (Grant 41); for our purposes this will be either the Glauber rule or the Metropolis rule. \n",
    "\n",
    "$W_{Metropolis}(\\sigma',\\sigma)=1 \\; \\Delta E \\leq 0, \\: e^{\\frac{-\\Delta E}{k_BT}} \\; \\Delta E \\gt 0$\n",
    "\n",
    "$W_{Glauber}(\\sigma',\\sigma)=\\frac{1}{2}(1-tanh(\\frac{\\Delta E}{2k_BT}))$\n",
    "\n",
    "We will do this N times for N total spins, this is one Monte Carlo cycle. Completing N cycles for our N spins will consist of one Monte Carlo simulation (Grant 45). At the end of a simulation we can calculate the total magnetization and the magnetization per spin; with these quantities we can verify our theoretical expectation of $<m>$. Repeating for diferent temperatures should yield the temperature dependence of $<m>$."
   ],
   "metadata": {}
  },
  {
   "cell_type": "markdown",
   "source": [
    "<h2>3-Dimensional Ising Model</h2>\n",
    "\n",
    "The three-dimensional Ising model consists of an NxNxN rectangular prism of spin sites, $S_i$, pointing in either the positive or negative direction.\n",
    "\n",
    "$E_{state} = -J\\Sigma_{<i,j>}S_iS_j-H\\Sigma S_i$\n",
    "\n",
    "Where <i,j> denotes nearest neighbor interactions with no double counting.\n",
    "\n",
    "We will take this time to define the critical exponents of the Ising model:\n",
    "\n",
    "* $\\alpha \\: : \\: C_v \\sim |T-T_C|^{-\\alpha}, \\: H=0$\n",
    "* $\\beta \\: : \\: m \\sim (T_C-T)^{\\beta}, \\: H=0$\n",
    "* $\\gamma \\: : \\: \\chi \\sim |T-T_C|^{-\\gamma}, \\: H=0$\n",
    "* $\\delta \\: : \\: H \\sim m^{\\delta}, \\: H\\neq0$\n",
    "* $\\eta \\: : \\: <m(0)m(r)> \\sim r^{(-d+2-\\eta)}, \\: H=0$\n",
    "* $\\nu \\: : \\: \\xi \\sim |T-T_C|^{-\\nu}, \\: H=0$"
   ],
   "metadata": {}
  },
  {
   "cell_type": "markdown",
   "source": [
    "<h4>Setup</h4>"
   ],
   "metadata": {}
  },
  {
   "cell_type": "code",
   "execution_count": 2,
   "source": [
    "def init_grid_3d(size):\r\n",
    "    \"\"\" (int) -> (np.array)\r\n",
    "    Creates an 3-dimensional numpy array with size**3 entries of randomly chosen +1 and -1 spins.\r\n",
    "    \"\"\"\r\n",
    "    prism = []\r\n",
    "    for p in range(size): #number of pages=size\r\n",
    "        grid = []\r\n",
    "        for i in range(size): #numer of rows=size\r\n",
    "            grid.append([random.randrange(-1, 2, 2) for j in range(size)])\r\n",
    "        prism.append(grid)\r\n",
    "    return np.array(prism)\r\n",
    "\r\n",
    "def total_mag_3d(grid):\r\n",
    "    \"\"\" (np.array) -> (int)\r\n",
    "    Calculates the total magnetization of a 3-dimensional grid of +1/-1 spins.\r\n",
    "    \"\"\"\r\n",
    "    tot = 0\r\n",
    "    for pages in grid:\r\n",
    "        for row in pages:\r\n",
    "            tot += sum(row)\r\n",
    "    return tot\r\n",
    "\r\n",
    "def mag_per_spin_3d(grid):\r\n",
    "    \"\"\" (np.array) -> (float)\r\n",
    "    Calculates the magnetization per spin of a 3-dimensional grid of +1/-1 spins.\r\n",
    "    \"\"\"\r\n",
    "    return total_mag_3d(grid)/len(grid)**3\r\n",
    "\r\n",
    "def energy_3d(grid, H=0):\r\n",
    "    \"\"\" (np.array, num) -> (num)\r\n",
    "    Finds the total energy of a 3-dimensional grid with external field H using nearest neighbors interactions.\r\n",
    "    \"\"\"\r\n",
    "    size = len(grid)\r\n",
    "\r\n",
    "    E = 0 #total energy\r\n",
    "\r\n",
    "    for page_idx in range(size):\r\n",
    "        for row_idx in range(size):\r\n",
    "            for col_idx in range(size):\r\n",
    "                #horizontal neighbours with periodic boundary conditions\r\n",
    "                E += grid[page_idx][row_idx][col_idx]*grid[page_idx][row_idx][(col_idx+1)%size] \r\n",
    "                E += grid[page_idx][row_idx][col_idx]*grid[page_idx][row_idx][(col_idx-1)%size]\r\n",
    "\r\n",
    "                #vertical neighbours with periodic boundary conditions\r\n",
    "                E += grid[page_idx][row_idx][col_idx]*grid[page_idx][(row_idx+1)%size][col_idx] \r\n",
    "                E += grid[page_idx][row_idx][col_idx]*grid[page_idx][(row_idx-1)%size][col_idx]\r\n",
    "\r\n",
    "                #depth neighbours with periodic boundary conditions\r\n",
    "                E += grid[page_idx][row_idx][col_idx]*grid[(page_idx+1)%size][row_idx][col_idx] \r\n",
    "                E += grid[page_idx][row_idx][col_idx]*grid[(page_idx-1)%size][row_idx][col_idx]\r\n",
    "    \r\n",
    "    return -E/2 - H*total_mag_3d(grid)"
   ],
   "outputs": [],
   "metadata": {}
  },
  {
   "cell_type": "code",
   "execution_count": 3,
   "source": [
    "def energy_change_3d(grid, page_idx, row_idx, col_idx, H=0):\r\n",
    "    \"\"\" (np.array, int, int, int, float) -> (int)\r\n",
    "    Calculates the energy change associated with flipping the spin at the idx position. The change is in units of J.\r\n",
    "    H is the external field pointing in either the positive or negative direction also in units of J.\r\n",
    "    \"\"\"\r\n",
    "    size = len(grid)\r\n",
    "\r\n",
    "    E = 0 #energy change\r\n",
    "\r\n",
    "    E += 2*H*grid[page_idx][row_idx][col_idx] #change due to external field\r\n",
    "\r\n",
    "    #horizontal neighbours with periodic boundary conditions\r\n",
    "    E += 2*grid[page_idx][row_idx][col_idx]*grid[page_idx][row_idx][(col_idx+1)%size] \r\n",
    "    E += 2*grid[page_idx][row_idx][col_idx]*grid[page_idx][row_idx][(col_idx-1)%size]\r\n",
    "\r\n",
    "    #vertical neighbours with periodic boundary conditions\r\n",
    "    E += 2*grid[page_idx][row_idx][col_idx]*grid[page_idx][(row_idx+1)%size][col_idx] \r\n",
    "    E += 2*grid[page_idx][row_idx][col_idx]*grid[page_idx][(row_idx-1)%size][col_idx]\r\n",
    "\r\n",
    "    #depth neighbours with periodic boundary conditions\r\n",
    "    E += 2*grid[page_idx][row_idx][col_idx]*grid[(page_idx+1)%size][row_idx][col_idx] \r\n",
    "    E += 2*grid[page_idx][row_idx][col_idx]*grid[(page_idx-1)%size][row_idx][col_idx]\r\n",
    "\r\n",
    "    return E\r\n",
    "\r\n",
    "def glauber_3d(grid, page_idx, row_idx, col_idx, temp, H=0):\r\n",
    "    \"\"\" (np.array, int, int, int, float, float) -> (float)\r\n",
    "    Calculates the probability that a change of state of a 3-dimensional grid, with energy change given by energy, will occur at a given temperature, temp. The probability is calculated using the Glauber rule. \r\n",
    "    \"\"\"\r\n",
    "    energy = energy_change_3d(grid, page_idx, row_idx, col_idx, H)\r\n",
    "    return 0.5*(1 - tanh(0.5*energy/temp))\r\n",
    "\r\n",
    "\r\n",
    "def metropolis_3d(grid, page_idx, row_idx, col_idx, temp, H=0):\r\n",
    "    \"\"\" (np.array, int, int, int, float, float) -> (float)\r\n",
    "    Calculates the probability that a change of state of a 3-dimensional grid, with energy change given by energy, will occur at a given temperature, temp. The probability is calculated using the Metropolis rule. \r\n",
    "    \"\"\"\r\n",
    "    energy = energy_change_3d(grid, page_idx, row_idx, col_idx, H)\r\n",
    "    if energy <= 0:\r\n",
    "        return 1\r\n",
    "    return exp(-energy/temp)\r\n",
    "\r\n",
    "\r\n",
    "def flip_3d(grid, page_idx, row_idx, col_idx, temp, H=0, rule=\"metropolis\"):\r\n",
    "    \"\"\" (np.array, int, int, int, float, float, str) -> ()\r\n",
    "    Flips the spin in grid at site idx with a probability given by the Metropolis or Glauber rule at temperature temp.\r\n",
    "    \"\"\"\r\n",
    "    if rule == \"glauber\":\r\n",
    "        prob = glauber_3d(grid, page_idx, row_idx, col_idx, temp, H)\r\n",
    "    elif rule == \"metropolis\":\r\n",
    "        prob = metropolis_3d(grid, page_idx, row_idx, col_idx, temp, H)\r\n",
    "    else:\r\n",
    "        raise ValueError(\"The rule argument take \\\"glauber\\\" or \\\"metropolis\\\" as input.\")\r\n",
    "\r\n",
    "    choice = random.uniform(0, 1)\r\n",
    "    \r\n",
    "    if choice <= prob: #will flip\r\n",
    "        grid[page_idx][row_idx][col_idx] *= -1\r\n",
    "    #otherwise will not flip and nothing happens\r\n",
    "\r\n",
    "\r\n",
    "def cycle_3d(grid, temp, H=0, rule='metropolis'):\r\n",
    "    \"\"\" (np.array, float, float, str) -> ()\r\n",
    "    Will conduct one Monte Carlo cycle over grid at temperature temp. \r\n",
    "    \"\"\"\r\n",
    "    size = len(grid)\r\n",
    "\r\n",
    "    for i in range(size**3): #total number of sites\r\n",
    "        page_idx = random.randint(0, size-1)\r\n",
    "        row_idx = random.randint(0, size-1)\r\n",
    "        col_idx = random.randint(0, size-1)\r\n",
    "        flip_3d(grid, page_idx, row_idx, col_idx, temp, H, rule)\r\n",
    "\r\n",
    "\r\n",
    "def simulation_3d(grid, temp, H=0, rule='metropolis'):\r\n",
    "    \"\"\" (np.array, float, float, str) -> ()\r\n",
    "    Will conduct one Monte Carlo simulation over grid at temperature temp. \r\n",
    "    \"\"\"\r\n",
    "    size = len(grid)**3 #N Monte Carlo cycles for N sites is one simulation\r\n",
    "    for i in range(size):\r\n",
    "        cycle_3d(grid, temp, H, rule)"
   ],
   "outputs": [],
   "metadata": {}
  },
  {
   "cell_type": "markdown",
   "source": [
    "<h4>Simulation</h4>\n",
    "\n",
    "We will create a three-dimensional numpy array of NxNxN sites and run a total of num_sim Monte Carlo simulations before recording the magnetization per spin. We will do this num_points times, to get that many data points, at each temperature T in temperatues. Increasing num_points will get us a more precise measurement of the magnetization per spin at different temperatures. Increasing num_sim will let our experimental results approach the long-time thermodynamic limit "
   ],
   "metadata": {}
  },
  {
   "cell_type": "code",
   "execution_count": 4,
   "source": [
    "def full_sim_3d(N, num_points, num_sim, temperatures, H=0, output=\"mag\", rule='metropolis'):\r\n",
    "    \"\"\" (int, int, int, np.array, float, str, str) -> (list, list) or (list, list, list, list)\r\n",
    "    N: dimensions of grid\r\n",
    "    num_points: number of data points at each temperature\r\n",
    "    num_sim: total numer of simulations conducted on a strip\r\n",
    "    temperatures: range of temperatues at which we will simulate\r\n",
    "    H: the strength of the external field\r\n",
    "    output: controls the value we are simulating for (\"mag\", \"energy\", or \"both\")\r\n",
    "    \"\"\"\r\n",
    "    if output == \"mag\":\r\n",
    "        magnetizations = [] #<m> of our simulations at various temperatues\r\n",
    "        magnetizations_unc = [] #uncertainties in <m>\r\n",
    "\r\n",
    "        for T in temperatures:\r\n",
    "            m_at_t = []\r\n",
    "            grid = init_grid_3d(N)\r\n",
    "            for i in range(num_sim): \r\n",
    "                cycle_3d(grid, T, H, rule)\r\n",
    "            for j in range(num_points):\r\n",
    "                cycle_3d(grid, T, H, rule)\r\n",
    "                m_at_t.append(mag_per_spin_3d(grid))\r\n",
    "            magnetizations.append(abs(mean(m_at_t)))\r\n",
    "            magnetizations_unc.append(standard_error(m_at_t))\r\n",
    "        return magnetizations, magnetizations_unc\r\n",
    "    elif output == \"energy\":\r\n",
    "        energies = [] #<m> of our simulations at various temperatues\r\n",
    "        energies_unc = [] #uncertainties in <m>\r\n",
    "        size = N**3\r\n",
    "\r\n",
    "        for T in temperatures:\r\n",
    "            e_at_t = []\r\n",
    "            grid = init_grid_3d(N)\r\n",
    "            for i in range(num_sim): \r\n",
    "                cycle_3d(grid, T, H, rule)\r\n",
    "            for j in range(num_points): \r\n",
    "                cycle_3d(grid, T, H, rule)\r\n",
    "                e_at_t.append(energy_3d(grid)/size)\r\n",
    "            energies.append(mean(e_at_t))\r\n",
    "            energies_unc.append(standard_error(e_at_t))\r\n",
    "        return energies, energies_unc\r\n",
    "    elif output == \"both\":\r\n",
    "        energies = [] #<m> of our simulations at various temperatues\r\n",
    "        energies_unc = [] #uncertainties in <m>\r\n",
    "        magnetizations = [] #<m> of our simulations at various temperatues\r\n",
    "        magnetizations_unc = [] #uncertainties in <m>\r\n",
    "        size = N**3\r\n",
    "        \r\n",
    "        for T in temperatures:\r\n",
    "            e_at_t = []\r\n",
    "            m_at_t = []\r\n",
    "            grid = init_grid_3d(N)\r\n",
    "            for i in range(num_sim): \r\n",
    "                cycle_3d(grid, T, H, rule)\r\n",
    "            for j in range(num_points): \r\n",
    "                cycle_3d(grid, T, H, rule)\r\n",
    "                e_at_t.append(energy_3d(grid)/size)\r\n",
    "                m_at_t.append(mag_per_spin_3d(grid))\r\n",
    "            energies.append(mean(e_at_t))\r\n",
    "            energies_unc.append(standard_error(e_at_t))\r\n",
    "            magnetizations.append(abs(mean(m_at_t)))\r\n",
    "            magnetizations_unc.append(standard_error(m_at_t))\r\n",
    "        return energies, energies_unc, magnetizations, magnetizations_unc\r\n",
    "    else:\r\n",
    "        raise ValueError(\"The output parameter must be \\\"mag\\\", \\\"energy\\\", or \\\"both\\\".\")"
   ],
   "outputs": [],
   "metadata": {}
  },
  {
   "cell_type": "markdown",
   "source": [
    "<h4>H=0</h4>\n"
   ],
   "metadata": {}
  },
  {
   "cell_type": "code",
   "execution_count": 5,
   "source": [
    "#these values will be stored in separate variables so that we may easily change them\r\n",
    "N = 5\r\n",
    "num_points = 50\r\n",
    "num_sim = 3\r\n",
    "temperatures_h_0 = np.linspace(0.1, 10, 50) #the range of temperatures over which we will run our simulation\r\n",
    "\r\n",
    "energies, energies_unc, magnetizations, magnetizations_unc = full_sim_3d(N, num_points, num_sim, temperatures_h_0, 0, \"both\") #run the simulation"
   ],
   "outputs": [],
   "metadata": {}
  },
  {
   "cell_type": "code",
   "execution_count": 6,
   "source": [
    "plt.figure()\r\n",
    "\r\n",
    "plt.errorbar(x=temperatures_h_0, y=magnetizations, yerr=magnetizations_unc, marker='.', ls='', label='Simulation')\r\n",
    "\r\n",
    "\r\n",
    "plt.xlabel('Temperature (J/k_B)')\r\n",
    "plt.ylabel('<m>')\r\n",
    "plt.title(\"Magnetization per Spin vs. Temperature (H=0)\")\r\n",
    "plt.show()"
   ],
   "outputs": [
    {
     "output_type": "display_data",
     "data": {
      "text/plain": [
       "<Figure size 432x288 with 1 Axes>"
      ],
      "image/png": "[encoded data removed]"
     },
     "metadata": {
      "needs_background": "light"
     }
    }
   ],
   "metadata": {}
  },
  {
   "cell_type": "code",
   "execution_count": 7,
   "source": [
    "plt.figure()\r\n",
    "\r\n",
    "plt.errorbar(x=temperatures_h_0, y=energies, yerr=energies_unc, marker='.', ls='', label='Simulation')\r\n",
    "\r\n",
    "plt.title(\"Energy per Spin vs. Temperature (H=0)\")\r\n",
    "plt.xlabel(\"Temperature (J/k_B)\")\r\n",
    "plt.ylabel(\"<E>/N\")\r\n",
    "plt.show()"
   ],
   "outputs": [
    {
     "output_type": "display_data",
     "data": {
      "text/plain": [
       "<Figure size 432x288 with 1 Axes>"
      ],
      "image/png": "[encoded data removed]"
     },
     "metadata": {
      "needs_background": "light"
     }
    }
   ],
   "metadata": {}
  },
  {
   "cell_type": "code",
   "execution_count": 8,
   "source": [
    "c_v_h_0 = list_derivative(temperatures_h_0, energies)\r\n",
    "\r\n",
    "plt.figure()\r\n",
    "\r\n",
    "plt.plot(temperatures_h_0, c_v_h_0, marker='.', ls='', label='Simulation')\r\n",
    "\r\n",
    "plt.title(\"Specific Heat Capacity vs. Temperature (H=0)\")\r\n",
    "plt.xlabel(\"Temperature (J/k_B)\")\r\n",
    "plt.ylabel(\"Cv/N\")\r\n",
    "plt.show()"
   ],
   "outputs": [
    {
     "output_type": "display_data",
     "data": {
      "text/plain": [
       "<Figure size 432x288 with 1 Axes>"
      ],
      "image/png": "[encoded data removed]"
     },
     "metadata": {
      "needs_background": "light"
     }
    }
   ],
   "metadata": {}
  },
  {
   "cell_type": "markdown",
   "source": [
    "<h4>H&#8800;0</h4>\n"
   ],
   "metadata": {}
  },
  {
   "cell_type": "code",
   "execution_count": 9,
   "source": [
    "#these values will be stored in separate variables so that we may easily change them\r\n",
    "N = 5\r\n",
    "num_points = 50\r\n",
    "num_sim = 3\r\n",
    "temperatures = np.linspace(0.1, 20, 50) #the range of temperatures over which we will run our simulation\r\n",
    "H = 1\r\n",
    "\r\n",
    "energies, energies_unc, magnetizations, magnetizations_unc = full_sim_3d(N, num_points, num_sim, temperatures, H, \"both\") #run the simulation"
   ],
   "outputs": [],
   "metadata": {}
  },
  {
   "cell_type": "code",
   "execution_count": 10,
   "source": [
    "plt.figure()\r\n",
    "\r\n",
    "plt.errorbar(x=temperatures, y=magnetizations, yerr=magnetizations_unc, marker='.', ls='', label='Simulation')\r\n",
    "\r\n",
    "\r\n",
    "plt.xlabel('Temperature (J/k_B)')\r\n",
    "plt.ylabel('<m>')\r\n",
    "plt.title(\"Magnetization per Spin vs. Temperature (H=\" + str(H) +\")\")\r\n",
    "plt.show()"
   ],
   "outputs": [
    {
     "output_type": "display_data",
     "data": {
      "text/plain": [
       "<Figure size 432x288 with 1 Axes>"
      ],
      "image/png": "[encoded data removed]"
     },
     "metadata": {
      "needs_background": "light"
     }
    }
   ],
   "metadata": {}
  },
  {
   "cell_type": "code",
   "execution_count": 11,
   "source": [
    "plt.figure()\r\n",
    "\r\n",
    "plt.errorbar(x=temperatures, y=energies, yerr=energies_unc, marker='.', ls='', label='Simulation')\r\n",
    "\r\n",
    "plt.title(\"Energy per Spin vs. Temperature, (H=\" + str(H) + \")\")\r\n",
    "plt.xlabel(\"Temperature (J/k_B)\")\r\n",
    "plt.ylabel(\"<E>/N\")\r\n",
    "plt.show()"
   ],
   "outputs": [
    {
     "output_type": "display_data",
     "data": {
      "text/plain": [
       "<Figure size 432x288 with 1 Axes>"
      ],
      "image/png": "[encoded data removed]"
     },
     "metadata": {
      "needs_background": "light"
     }
    }
   ],
   "metadata": {}
  },
  {
   "cell_type": "code",
   "execution_count": 12,
   "source": [
    "c_v = list_derivative(temperatures, energies)\r\n",
    "\r\n",
    "plt.figure()\r\n",
    "\r\n",
    "plt.plot(temperatures, c_v, marker='.', ls='', label='Simulation')\r\n",
    "\r\n",
    "plt.title(\"Specific Heat Capacity vs. Temperature, (H=\" + str(H) + \")\")\r\n",
    "plt.xlabel(\"Temperature (J/k_B)\")\r\n",
    "plt.ylabel(\"Cv/N\")\r\n",
    "plt.show()"
   ],
   "outputs": [
    {
     "output_type": "display_data",
     "data": {
      "text/plain": [
       "<Figure size 432x288 with 1 Axes>"
      ],
      "image/png": "[encoded data removed]"
     },
     "metadata": {
      "needs_background": "light"
     }
    }
   ],
   "metadata": {}
  },
  {
   "cell_type": "markdown",
   "source": [
    "<h2>Sources</h2>\r\n",
    "\r\n",
    "* Grant, Martin. <em>Dirty tricks for statistical mechanics</em>. 2004.\r\n",
    "    * Available here: <http://www.physics.mcgill.ca/~grant/559/notes0.91.pdf>\r\n",
    "* Holmes-Cerfon, Miranda. <em>Lecture 3: Markov Chains (II): Detailed Balance, and Markov Chain Monte Carlo (MCMC)</em>. 2019.\r\n",
    "    * Available here: <https://cims.nyu.edu/~holmes/teaching/asa19/handout_Lecture3_2019.pdf>\r\n",
    "* Pathria, R. K., and Paul D. Beale. <em>Statistical Mechanics</em>. Elsevier, 2011. \r\n",
    "* Salinas S.R.A. <em>Introduction to Statistical Physics</em>. 2001. Graduate Texts in Contemporary Physics. Springer, New York, NY. <https://doi.org/10.1007/978-1-4757-3508-6_13>\r\n",
    "    * Relevant chapter available here: <http://www.lps.ens.fr/~krzakala/ISINGMODEL.pdf>\r\n",
    "\r\n",
    "\r\n",
    "\r\n"
   ],
   "metadata": {}
  },
  {
   "cell_type": "markdown",
   "source": [],
   "metadata": {}
  }
 ]
}